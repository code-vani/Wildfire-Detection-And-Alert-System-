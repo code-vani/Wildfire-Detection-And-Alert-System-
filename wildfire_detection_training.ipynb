{
 "cells": [
  {
   "cell_type": "markdown",
   "id": "3018f099",
   "metadata": {},
   "source": [
    "## Importing Libraries"
   ]
  },
  {
   "cell_type": "code",
   "execution_count": 2,
   "id": "5885daa2",
   "metadata": {},
   "outputs": [],
   "source": [
    "import tensorflow as tf\n",
    "import matplotlib.pyplot as plt\n",
    "import seaborn as sns"
   ]
  },
  {
   "cell_type": "markdown",
   "id": "d0904751",
   "metadata": {},
   "source": [
    "## Data Prepocessing\n"
   ]
  },
  {
   "cell_type": "markdown",
   "id": "e14c0b12",
   "metadata": {},
   "source": [
    "### Training Image Preprocessing"
   ]
  },
  {
   "cell_type": "code",
   "execution_count": 3,
   "id": "4fbb8ee4",
   "metadata": {},
   "outputs": [
    {
     "name": "stdout",
     "output_type": "stream",
     "text": [
      "Found 1834 files belonging to 2 classes.\n"
     ]
    }
   ],
   "source": [
    "training_set = tf.keras.utils.image_dataset_from_directory(\n",
    "    'Training and Validation',\n",
    "    labels=\"inferred\",\n",
    "    label_mode=\"categorical\",\n",
    "    color_mode=\"rgb\",\n",
    "    batch_size=32,\n",
    "    image_size=(256, 256),\n",
    "    shuffle=True,\n",
    "    crop_to_aspect_ratio=False\n",
    ")"
   ]
  },
  {
   "cell_type": "markdown",
   "id": "6124293d",
   "metadata": {},
   "source": [
    "\n",
    "### Validation Image Preprocessing"
   ]
  },
  {
   "cell_type": "code",
   "execution_count": 4,
   "id": "db86b3f9",
   "metadata": {},
   "outputs": [
    {
     "name": "stdout",
     "output_type": "stream",
     "text": [
      "Found 1834 files belonging to 2 classes.\n"
     ]
    }
   ],
   "source": [
    "validation_set = tf.keras.utils.image_dataset_from_directory(\n",
    "    'Training and Validation',\n",
    "    labels=\"inferred\",\n",
    "    label_mode=\"categorical\",\n",
    "    color_mode=\"rgb\",\n",
    "    batch_size=32,\n",
    "    image_size=(256, 256),\n",
    "    subset=None,\n",
    "    crop_to_aspect_ratio=False\n",
    ")"
   ]
  },
  {
   "cell_type": "code",
   "execution_count": 5,
   "id": "8c8cc050",
   "metadata": {},
   "outputs": [
    {
     "name": "stdout",
     "output_type": "stream",
     "text": [
      "Training set - Images shape: (32, 256, 256, 3)\n",
      "Training set - Labels shape: (32, 2)\n",
      "Validation set - Images shape: (32, 256, 256, 3)\n",
      "Validation set - Labels shape: (32, 2)\n"
     ]
    }
   ],
   "source": [
    "# Check the shapes of training and validation datasets\n",
    "for images, labels in training_set.take(1):\n",
    "    print(\"Training set - Images shape:\", images.shape)\n",
    "    print(\"Training set - Labels shape:\", labels.shape)\n",
    "\n",
    "for images, labels in validation_set.take(1):\n",
    "    print(\"Validation set - Images shape:\", images.shape)\n",
    "    print(\"Validation set - Labels shape:\", labels.shape)\n"
   ]
  },
  {
   "cell_type": "code",
   "execution_count": 7,
   "id": "dec57034",
   "metadata": {},
   "outputs": [
    {
     "name": "stdout",
     "output_type": "stream",
     "text": [
      "tf.Tensor(\n",
      "[[[[1.25000000e+02 1.30000000e+02 1.94000000e+02]\n",
      "   [1.22105469e+02 1.27105469e+02 1.91105469e+02]\n",
      "   [1.19175781e+02 1.24175781e+02 1.88175781e+02]\n",
      "   ...\n",
      "   [9.38242188e+01 1.07824219e+02 1.68824219e+02]\n",
      "   [9.10000000e+01 1.05000000e+02 1.66000000e+02]\n",
      "   [9.10000000e+01 1.05000000e+02 1.66000000e+02]]\n",
      "\n",
      "  [[1.25000000e+02 1.30000000e+02 1.94000000e+02]\n",
      "   [1.23036392e+02 1.28036392e+02 1.92036392e+02]\n",
      "   [1.20140625e+02 1.25140625e+02 1.89140625e+02]\n",
      "   ...\n",
      "   [9.47890625e+01 1.08789062e+02 1.69789062e+02]\n",
      "   [9.19648438e+01 1.05964844e+02 1.66964844e+02]\n",
      "   [9.19648438e+01 1.05964844e+02 1.66964844e+02]]\n",
      "\n",
      "  [[1.25941406e+02 1.30941406e+02 1.94941406e+02]\n",
      "   [1.23103409e+02 1.28103409e+02 1.92103409e+02]\n",
      "   [1.21062027e+02 1.26062027e+02 1.90062027e+02]\n",
      "   ...\n",
      "   [9.49345398e+01 1.08934540e+02 1.69934540e+02]\n",
      "   [9.38828125e+01 1.07882812e+02 1.68882812e+02]\n",
      "   [9.38828125e+01 1.07882812e+02 1.68882812e+02]]\n",
      "\n",
      "  ...\n",
      "\n",
      "  [[1.22382812e+01 2.28867188e+01 6.58984375e+00]\n",
      "   [1.04216614e+01 2.29432526e+01 3.86491394e+00]\n",
      "   [1.03554688e+01 2.11176605e+01 4.65187073e+00]\n",
      "   ...\n",
      "   [1.94385681e+01 2.90352783e+01 2.77457428e+01]\n",
      "   [1.38563232e+01 2.26902008e+01 1.95378571e+01]\n",
      "   [6.58984375e+00 1.72968750e+01 1.31796875e+01]]\n",
      "\n",
      "  [[0.00000000e+00 4.96484375e+00 0.00000000e+00]\n",
      "   [0.00000000e+00 5.89576721e+00 0.00000000e+00]\n",
      "   [0.00000000e+00 5.02137756e+00 0.00000000e+00]\n",
      "   ...\n",
      "   [0.00000000e+00 4.05859375e+00 0.00000000e+00]\n",
      "   [0.00000000e+00 5.03392029e+00 0.00000000e+00]\n",
      "   [0.00000000e+00 5.96484375e+00 0.00000000e+00]]\n",
      "\n",
      "  [[0.00000000e+00 4.00000000e+00 0.00000000e+00]\n",
      "   [0.00000000e+00 4.00000000e+00 0.00000000e+00]\n",
      "   [0.00000000e+00 4.00000000e+00 0.00000000e+00]\n",
      "   ...\n",
      "   [0.00000000e+00 4.05859375e+00 0.00000000e+00]\n",
      "   [0.00000000e+00 5.00000000e+00 0.00000000e+00]\n",
      "   [0.00000000e+00 5.00000000e+00 0.00000000e+00]]]\n",
      "\n",
      "\n",
      " [[[1.29000000e+02 6.40000000e+01 2.60000000e+01]\n",
      "   [1.28035156e+02 6.30351562e+01 2.50351562e+01]\n",
      "   [1.27058594e+02 6.20585938e+01 2.21757812e+01]\n",
      "   ...\n",
      "   [1.37000000e+02 6.90000000e+01 2.40000000e+01]\n",
      "   [1.37000000e+02 6.90000000e+01 2.40000000e+01]\n",
      "   [1.37000000e+02 6.90000000e+01 2.40000000e+01]]\n",
      "\n",
      "  [[1.29000000e+02 6.40000000e+01 2.60000000e+01]\n",
      "   [1.28035156e+02 6.30351562e+01 2.50351562e+01]\n",
      "   [1.27058594e+02 6.20585938e+01 2.21757812e+01]\n",
      "   ...\n",
      "   [1.37964844e+02 6.99648438e+01 2.49648438e+01]\n",
      "   [1.37964844e+02 6.99648438e+01 2.49648438e+01]\n",
      "   [1.37964844e+02 6.99648438e+01 2.49648438e+01]]\n",
      "\n",
      "  [[1.28058594e+02 6.30585938e+01 2.50585938e+01]\n",
      "   [1.28002060e+02 6.30020599e+01 2.50020599e+01]\n",
      "   [1.27058594e+02 6.20585938e+01 2.21757812e+01]\n",
      "   ...\n",
      "   [1.39882812e+02 6.90585938e+01 2.50000000e+01]\n",
      "   [1.39882812e+02 6.90585938e+01 2.50000000e+01]\n",
      "   [1.39882812e+02 6.90585938e+01 2.50000000e+01]]\n",
      "\n",
      "  ...\n",
      "\n",
      "  [[5.29414062e+01 2.59414062e+01 8.94140625e+00]\n",
      "   [5.29414062e+01 2.59414062e+01 8.94140625e+00]\n",
      "   [5.29414062e+01 2.59414062e+01 8.94140625e+00]\n",
      "   ...\n",
      "   [4.78242188e+01 2.48242188e+01 1.08242188e+01]\n",
      "   [4.68828125e+01 2.38828125e+01 9.88281250e+00]\n",
      "   [4.68828125e+01 2.38828125e+01 9.88281250e+00]]\n",
      "\n",
      "  [[5.20000000e+01 2.50000000e+01 8.00000000e+00]\n",
      "   [5.20000000e+01 2.50000000e+01 8.00000000e+00]\n",
      "   [5.20000000e+01 2.50000000e+01 8.00000000e+00]\n",
      "   ...\n",
      "   [4.59414062e+01 2.29414062e+01 8.94140625e+00]\n",
      "   [4.50000000e+01 2.20000000e+01 8.00000000e+00]\n",
      "   [4.50000000e+01 2.20000000e+01 8.00000000e+00]]\n",
      "\n",
      "  [[5.20000000e+01 2.50000000e+01 8.00000000e+00]\n",
      "   [5.20000000e+01 2.50000000e+01 8.00000000e+00]\n",
      "   [5.20000000e+01 2.50000000e+01 8.00000000e+00]\n",
      "   ...\n",
      "   [4.59414062e+01 2.29414062e+01 8.94140625e+00]\n",
      "   [4.50000000e+01 2.20000000e+01 8.00000000e+00]\n",
      "   [4.50000000e+01 2.20000000e+01 8.00000000e+00]]]\n",
      "\n",
      "\n",
      " [[[1.56000000e+02 1.09000000e+02 6.70000000e+01]\n",
      "   [1.56000000e+02 1.09000000e+02 6.70000000e+01]\n",
      "   [1.56000000e+02 1.09000000e+02 6.70000000e+01]\n",
      "   ...\n",
      "   [1.05941406e+02 6.59414062e+01 3.09414062e+01]\n",
      "   [1.05000000e+02 6.50000000e+01 3.00000000e+01]\n",
      "   [1.05000000e+02 6.50000000e+01 3.00000000e+01]]\n",
      "\n",
      "  [[1.51175781e+02 1.04175781e+02 6.21757812e+01]\n",
      "   [1.51175781e+02 1.04175781e+02 6.21757812e+01]\n",
      "   [1.51175781e+02 1.04175781e+02 6.21757812e+01]\n",
      "   ...\n",
      "   [1.02082031e+02 6.20820312e+01 2.70820312e+01]\n",
      "   [1.01140625e+02 6.11406250e+01 2.61406250e+01]\n",
      "   [1.01140625e+02 6.11406250e+01 2.61406250e+01]]\n",
      "\n",
      "  [[1.49117188e+02 1.02117188e+02 6.01171875e+01]\n",
      "   [1.49117188e+02 1.02117188e+02 6.01171875e+01]\n",
      "   [1.49117188e+02 1.02117188e+02 6.01171875e+01]\n",
      "   ...\n",
      "   [1.01941406e+02 5.91171875e+01 2.50585938e+01]\n",
      "   [1.01000000e+02 5.81757812e+01 2.41171875e+01]\n",
      "   [1.01000000e+02 5.81757812e+01 2.41171875e+01]]\n",
      "\n",
      "  ...\n",
      "\n",
      "  [[2.97656250e+01 2.07656250e+01 5.76562500e+00]\n",
      "   [2.49979401e+01 1.59979401e+01 1.11100769e+00]\n",
      "   [2.21103210e+01 1.31103210e+01 5.51605225e-02]\n",
      "   ...\n",
      "   [5.48276520e+01 3.59448395e+01 1.88862457e+01]\n",
      "   [5.11171875e+01 3.22343750e+01 1.51757812e+01]\n",
      "   [5.11171875e+01 3.22343750e+01 1.51757812e+01]]\n",
      "\n",
      "  [[2.63515625e+01 1.73515625e+01 2.35156250e+00]\n",
      "   [2.24921875e+01 1.34921875e+01 3.54034424e-01]\n",
      "   [2.14101562e+01 1.24101562e+01 2.48153687e-01]\n",
      "   ...\n",
      "   [5.59979401e+01 3.89979401e+01 2.09979401e+01]\n",
      "   [5.31406250e+01 3.61406250e+01 1.81406250e+01]\n",
      "   [5.31406250e+01 3.61406250e+01 1.81406250e+01]]\n",
      "\n",
      "  [[3.60000000e+01 2.70000000e+01 1.20000000e+01]\n",
      "   [3.21406250e+01 2.31406250e+01 8.14062500e+00]\n",
      "   [3.10585938e+01 2.20585938e+01 7.05859375e+00]\n",
      "   ...\n",
      "   [6.07656250e+01 4.37656250e+01 2.57656250e+01]\n",
      "   [5.70000000e+01 4.00000000e+01 2.20000000e+01]\n",
      "   [5.70000000e+01 4.00000000e+01 2.20000000e+01]]]\n",
      "\n",
      "\n",
      " ...\n",
      "\n",
      "\n",
      " [[[1.69000000e+02 1.93000000e+02 2.31000000e+02]\n",
      "   [1.69000000e+02 1.93000000e+02 2.31000000e+02]\n",
      "   [1.69000000e+02 1.93000000e+02 2.31000000e+02]\n",
      "   ...\n",
      "   [1.07058594e+02 1.42058594e+02 1.96058594e+02]\n",
      "   [1.08000000e+02 1.43000000e+02 1.97000000e+02]\n",
      "   [1.08000000e+02 1.43000000e+02 1.97000000e+02]]\n",
      "\n",
      "  [[9.76015625e+01 1.21601562e+02 1.59601562e+02]\n",
      "   [9.66706390e+01 1.20670639e+02 1.58670639e+02]\n",
      "   [9.66367188e+01 1.20636719e+02 1.58636719e+02]\n",
      "   ...\n",
      "   [1.07115128e+02 1.42115128e+02 1.96115128e+02]\n",
      "   [1.08964844e+02 1.43964844e+02 1.97964844e+02]\n",
      "   [1.08964844e+02 1.43964844e+02 1.97964844e+02]]\n",
      "\n",
      "  [[1.11945312e+02 1.36886719e+02 1.76769531e+02]\n",
      "   [1.10980469e+02 1.35921875e+02 1.75804688e+02]\n",
      "   [1.11831558e+02 1.36772964e+02 1.76655777e+02]\n",
      "   ...\n",
      "   [1.07062027e+02 1.42062027e+02 1.96062027e+02]\n",
      "   [1.08058594e+02 1.43058594e+02 1.97058594e+02]\n",
      "   [1.08058594e+02 1.43058594e+02 1.97058594e+02]]\n",
      "\n",
      "  ...\n",
      "\n",
      "  [[1.13554688e+01 1.51796875e+01 1.81210938e+01]\n",
      "   [8.63053894e+00 1.25112915e+01 1.34664764e+01]\n",
      "   [1.11899872e+01 1.50176392e+01 1.78384247e+01]\n",
      "   ...\n",
      "   [1.31313934e+01 1.40727997e+01 9.30374146e+00]\n",
      "   [1.14140625e+01 1.23554688e+01 7.53125000e+00]\n",
      "   [1.14140625e+01 1.23554688e+01 7.53125000e+00]]\n",
      "\n",
      "  [[1.00000000e+00 2.03515625e+00 3.92968750e+00]\n",
      "   [1.00000000e+00 2.96607971e+00 2.06784058e+00]\n",
      "   [1.00000000e+00 2.09169006e+00 3.81661987e+00]\n",
      "   ...\n",
      "   [1.05859375e+00 1.05859375e+00 0.00000000e+00]\n",
      "   [2.00000000e+00 2.00000000e+00 0.00000000e+00]\n",
      "   [2.00000000e+00 2.00000000e+00 0.00000000e+00]]\n",
      "\n",
      "  [[1.00000000e+00 3.00000000e+00 2.00000000e+00]\n",
      "   [1.00000000e+00 3.00000000e+00 2.00000000e+00]\n",
      "   [1.00000000e+00 3.00000000e+00 2.00000000e+00]\n",
      "   ...\n",
      "   [1.05859375e+00 1.05859375e+00 0.00000000e+00]\n",
      "   [2.00000000e+00 2.00000000e+00 0.00000000e+00]\n",
      "   [2.00000000e+00 2.00000000e+00 0.00000000e+00]]]\n",
      "\n",
      "\n",
      " [[[1.69000000e+02 1.75000000e+02 2.53000000e+02]\n",
      "   [1.69000000e+02 1.75000000e+02 2.53000000e+02]\n",
      "   [1.68058594e+02 1.74058594e+02 2.52058594e+02]\n",
      "   ...\n",
      "   [1.68824219e+02 1.73824219e+02 2.54824219e+02]\n",
      "   [1.66000000e+02 1.71000000e+02 2.52000000e+02]\n",
      "   [1.66000000e+02 1.71000000e+02 2.52000000e+02]]\n",
      "\n",
      "  [[1.68035156e+02 1.74035156e+02 2.52035156e+02]\n",
      "   [1.68035156e+02 1.74035156e+02 2.52035156e+02]\n",
      "   [1.68002060e+02 1.74002060e+02 2.52002060e+02]\n",
      "   ...\n",
      "   [1.65190979e+02 1.70190979e+02 2.51190979e+02]\n",
      "   [1.66000000e+02 1.71000000e+02 2.52000000e+02]\n",
      "   [1.66000000e+02 1.71000000e+02 2.52000000e+02]]\n",
      "\n",
      "  [[1.67058594e+02 1.73058594e+02 2.51058594e+02]\n",
      "   [1.67058594e+02 1.73058594e+02 2.51058594e+02]\n",
      "   [1.67944839e+02 1.73944839e+02 2.51944839e+02]\n",
      "   ...\n",
      "   [1.65944839e+02 1.70944839e+02 2.51944839e+02]\n",
      "   [1.66000000e+02 1.71000000e+02 2.52000000e+02]\n",
      "   [1.66000000e+02 1.71000000e+02 2.52000000e+02]]\n",
      "\n",
      "  ...\n",
      "\n",
      "  [[4.43593750e+01 5.83593750e+01 9.65976562e+01]\n",
      "   [3.24420471e+01 4.62724457e+01 8.07078857e+01]\n",
      "   [7.19366760e+01 8.49849701e+01 1.16402466e+02]\n",
      "   ...\n",
      "   [0.00000000e+00 1.17187500e-01 5.11718750e+00]\n",
      "   [0.00000000e+00 1.17187500e-01 7.00000000e+00]\n",
      "   [0.00000000e+00 1.17187500e-01 7.00000000e+00]]\n",
      "\n",
      "  [[1.73671875e+01 3.12617188e+01 5.69101562e+01]\n",
      "   [6.10565186e-01 1.18480072e+01 3.46697540e+01]\n",
      "   [3.09671173e+01 4.38912659e+01 6.29105835e+01]\n",
      "   ...\n",
      "   [0.00000000e+00 2.00000000e+00 5.11718750e+00]\n",
      "   [0.00000000e+00 2.00000000e+00 7.00000000e+00]\n",
      "   [0.00000000e+00 2.00000000e+00 7.00000000e+00]]\n",
      "\n",
      "  [[0.00000000e+00 1.10000000e+01 2.70000000e+01]\n",
      "   [0.00000000e+00 1.48593750e+01 2.98945312e+01]\n",
      "   [2.82421875e+01 4.23007812e+01 5.54179688e+01]\n",
      "   ...\n",
      "   [0.00000000e+00 2.00000000e+00 5.11718750e+00]\n",
      "   [0.00000000e+00 2.00000000e+00 7.00000000e+00]\n",
      "   [0.00000000e+00 2.00000000e+00 7.00000000e+00]]]\n",
      "\n",
      "\n",
      " [[[3.70000000e+01 4.00000000e+01 4.90000000e+01]\n",
      "   [3.70000000e+01 4.00000000e+01 4.90000000e+01]\n",
      "   [3.70000000e+01 4.00000000e+01 4.90000000e+01]\n",
      "   ...\n",
      "   [3.88828125e+01 4.58828125e+01 5.58828125e+01]\n",
      "   [3.70000000e+01 4.40000000e+01 5.40000000e+01]\n",
      "   [3.70000000e+01 4.40000000e+01 5.40000000e+01]]\n",
      "\n",
      "  [[3.79648438e+01 4.09648438e+01 4.99648438e+01]\n",
      "   [3.79648438e+01 4.09648438e+01 4.99648438e+01]\n",
      "   [3.79648438e+01 4.09648438e+01 4.99648438e+01]\n",
      "   ...\n",
      "   [3.89393463e+01 4.59393463e+01 5.59393463e+01]\n",
      "   [3.79648438e+01 4.49648438e+01 5.49648438e+01]\n",
      "   [3.79648438e+01 4.49648438e+01 5.49648438e+01]]\n",
      "\n",
      "  [[3.80000000e+01 4.10000000e+01 5.00000000e+01]\n",
      "   [3.80000000e+01 4.10000000e+01 5.00000000e+01]\n",
      "   [3.80000000e+01 4.10000000e+01 5.00000000e+01]\n",
      "   ...\n",
      "   [3.89414062e+01 4.59414062e+01 5.59414062e+01]\n",
      "   [3.80000000e+01 4.50000000e+01 5.50000000e+01]\n",
      "   [3.80000000e+01 4.50000000e+01 5.50000000e+01]]\n",
      "\n",
      "  ...\n",
      "\n",
      "  [[1.18828125e+01 3.88281250e+00 9.41406250e-01]\n",
      "   [1.19393463e+01 3.93934631e+00 9.41406250e-01]\n",
      "   [1.28276520e+01 4.82765198e+00 1.82765198e+00]\n",
      "   ...\n",
      "   [6.82765198e+00 2.82765198e+00 3.82765198e+00]\n",
      "   [5.94140625e+00 1.94140625e+00 2.94140625e+00]\n",
      "   [5.94140625e+00 1.94140625e+00 2.94140625e+00]]\n",
      "\n",
      "  [[1.00000000e+01 2.00000000e+00 0.00000000e+00]\n",
      "   [1.09648438e+01 2.96484375e+00 0.00000000e+00]\n",
      "   [1.10000000e+01 3.00000000e+00 0.00000000e+00]\n",
      "   ...\n",
      "   [5.00000000e+00 1.00000000e+00 2.00000000e+00]\n",
      "   [5.00000000e+00 1.00000000e+00 2.00000000e+00]\n",
      "   [5.00000000e+00 1.00000000e+00 2.00000000e+00]]\n",
      "\n",
      "  [[1.00000000e+01 2.00000000e+00 0.00000000e+00]\n",
      "   [1.09648438e+01 2.96484375e+00 0.00000000e+00]\n",
      "   [1.10000000e+01 3.00000000e+00 0.00000000e+00]\n",
      "   ...\n",
      "   [5.00000000e+00 1.00000000e+00 2.00000000e+00]\n",
      "   [5.00000000e+00 1.00000000e+00 2.00000000e+00]\n",
      "   [5.00000000e+00 1.00000000e+00 2.00000000e+00]]]], shape=(32, 256, 256, 3), dtype=float32) (32, 256, 256, 3)\n",
      "tf.Tensor(\n",
      "[[0. 1.]\n",
      " [1. 0.]\n",
      " [1. 0.]\n",
      " [0. 1.]\n",
      " [1. 0.]\n",
      " [0. 1.]\n",
      " [0. 1.]\n",
      " [1. 0.]\n",
      " [1. 0.]\n",
      " [0. 1.]\n",
      " [0. 1.]\n",
      " [1. 0.]\n",
      " [1. 0.]\n",
      " [1. 0.]\n",
      " [1. 0.]\n",
      " [0. 1.]\n",
      " [0. 1.]\n",
      " [0. 1.]\n",
      " [1. 0.]\n",
      " [1. 0.]\n",
      " [0. 1.]\n",
      " [1. 0.]\n",
      " [1. 0.]\n",
      " [1. 0.]\n",
      " [0. 1.]\n",
      " [1. 0.]\n",
      " [0. 1.]\n",
      " [0. 1.]\n",
      " [1. 0.]\n",
      " [0. 1.]\n",
      " [0. 1.]\n",
      " [1. 0.]], shape=(32, 2), dtype=float32) (32, 2)\n"
     ]
    }
   ],
   "source": [
    "for x,y in training_set:\n",
    "    print(x,x.shape)\n",
    "    print(y,y.shape)\n",
    "    break"
   ]
  },
  {
   "cell_type": "markdown",
   "id": "34aeb5ea",
   "metadata": {},
   "source": [
    "## Building Model"
   ]
  },
  {
   "cell_type": "code",
   "execution_count": 8,
   "id": "8f9e9bef",
   "metadata": {},
   "outputs": [],
   "source": [
    "from tensorflow.keras.layers import Dense,Conv2D,MaxPool2D,Dropout,Flatten\n",
    "from tensorflow.keras.models import Sequential"
   ]
  },
  {
   "cell_type": "code",
   "execution_count": 9,
   "id": "0ad1fda5",
   "metadata": {},
   "outputs": [],
   "source": [
    "model= Sequential()"
   ]
  },
  {
   "cell_type": "code",
   "execution_count": 10,
   "id": "60c1094e",
   "metadata": {},
   "outputs": [],
   "source": [
    "model.add(Conv2D(filters=32,kernel_size=3,padding='same',activation='relu',input_shape=(256,256,3)))\n",
    "model.add(Conv2D(filters=32,kernel_size=3,activation='relu'))\n",
    "model.add(MaxPool2D(pool_size=2,strides=2))\n",
    "model.add(Dropout(0.25))"
   ]
  },
  {
   "cell_type": "code",
   "execution_count": 11,
   "id": "e234e75d",
   "metadata": {},
   "outputs": [],
   "source": [
    "model.add(Conv2D(filters=64,kernel_size=3,padding='same',activation='relu',input_shape=(256,256,3)))\n",
    "model.add(Conv2D(filters=64,kernel_size=3,activation='relu'))\n",
    "model.add(MaxPool2D(pool_size=2,strides=2))\n",
    "model.add(Dropout(0.25))"
   ]
  },
  {
   "cell_type": "code",
   "execution_count": 12,
   "id": "e1ad9a6e",
   "metadata": {},
   "outputs": [],
   "source": [
    "model.add(Conv2D(filters=128,kernel_size=3,padding='same',activation='relu',input_shape=(256,256,3)))\n",
    "model.add(Conv2D(filters=128,kernel_size=3,activation='relu'))\n",
    "model.add(MaxPool2D(pool_size=2,strides=2))\n",
    "model.add(Dropout(0.25))"
   ]
  },
  {
   "cell_type": "code",
   "execution_count": 13,
   "id": "11f5775e",
   "metadata": {},
   "outputs": [],
   "source": [
    "model.add(Conv2D(filters=256,kernel_size=3,padding='same',activation='relu',input_shape=(256,256,3)))\n",
    "model.add(Conv2D(filters=256,kernel_size=3,activation='relu'))\n",
    "model.add(MaxPool2D(pool_size=2,strides=2))\n",
    "model.add(Dropout(0.25))"
   ]
  },
  {
   "cell_type": "code",
   "execution_count": 15,
   "id": "6acfa826",
   "metadata": {},
   "outputs": [],
   "source": [
    "model.add(Conv2D(filters=512,kernel_size=3,padding='same',activation='relu',input_shape=(256,256,3)))\n",
    "model.add(Conv2D(filters=512,kernel_size=3,activation='relu'))\n",
    "model.add(MaxPool2D(pool_size=2,strides=2))\n",
    "model.add(Dropout(0.25))"
   ]
  },
  {
   "cell_type": "code",
   "execution_count": 16,
   "id": "d6435180",
   "metadata": {},
   "outputs": [],
   "source": [
    "model.add(Dropout(0.25))"
   ]
  },
  {
   "cell_type": "code",
   "execution_count": 17,
   "id": "51eb3140",
   "metadata": {},
   "outputs": [],
   "source": [
    "model.add(Flatten())"
   ]
  },
  {
   "cell_type": "code",
   "execution_count": 18,
   "id": "f7f0fb75",
   "metadata": {},
   "outputs": [],
   "source": [
    "model.add(Dense(units=1500,activation='relu'))"
   ]
  },
  {
   "cell_type": "code",
   "execution_count": 19,
   "id": "76da2d24",
   "metadata": {},
   "outputs": [],
   "source": [
    "model.add(Dropout(0.4))"
   ]
  },
  {
   "cell_type": "code",
   "execution_count": 20,
   "id": "d48bf4ec",
   "metadata": {},
   "outputs": [],
   "source": [
    "#Output Layer\n",
    "model.add(Dense(units=2,activation='softmax'))"
   ]
  },
  {
   "cell_type": "markdown",
   "id": "635f80c0",
   "metadata": {},
   "source": [
    "## Compiling Model"
   ]
  },
  {
   "cell_type": "code",
   "execution_count": 21,
   "id": "9c90a60e",
   "metadata": {},
   "outputs": [],
   "source": [
    "model.compile(optimizer=tf.keras.optimizers.legacy.Adam(learning_rate=0.0001),\n",
    "              loss='categorical_crossentropy',\n",
    "              metrics=['accuracy'])"
   ]
  },
  {
   "cell_type": "code",
   "execution_count": 22,
   "id": "0e601702",
   "metadata": {},
   "outputs": [
    {
     "name": "stdout",
     "output_type": "stream",
     "text": [
      "Model: \"sequential\"\n",
      "_________________________________________________________________\n",
      " Layer (type)                Output Shape              Param #   \n",
      "=================================================================\n",
      " conv2d (Conv2D)             (None, 256, 256, 32)      896       \n",
      "                                                                 \n",
      " conv2d_1 (Conv2D)           (None, 254, 254, 32)      9248      \n",
      "                                                                 \n",
      " max_pooling2d (MaxPooling2D  (None, 127, 127, 32)     0         \n",
      " )                                                               \n",
      "                                                                 \n",
      " dropout (Dropout)           (None, 127, 127, 32)      0         \n",
      "                                                                 \n",
      " conv2d_2 (Conv2D)           (None, 127, 127, 64)      18496     \n",
      "                                                                 \n",
      " conv2d_3 (Conv2D)           (None, 125, 125, 64)      36928     \n",
      "                                                                 \n",
      " max_pooling2d_1 (MaxPooling  (None, 62, 62, 64)       0         \n",
      " 2D)                                                             \n",
      "                                                                 \n",
      " dropout_1 (Dropout)         (None, 62, 62, 64)        0         \n",
      "                                                                 \n",
      " conv2d_4 (Conv2D)           (None, 62, 62, 128)       73856     \n",
      "                                                                 \n",
      " conv2d_5 (Conv2D)           (None, 60, 60, 128)       147584    \n",
      "                                                                 \n",
      " max_pooling2d_2 (MaxPooling  (None, 30, 30, 128)      0         \n",
      " 2D)                                                             \n",
      "                                                                 \n",
      " dropout_2 (Dropout)         (None, 30, 30, 128)       0         \n",
      "                                                                 \n",
      " conv2d_6 (Conv2D)           (None, 30, 30, 256)       295168    \n",
      "                                                                 \n",
      " conv2d_7 (Conv2D)           (None, 28, 28, 256)       590080    \n",
      "                                                                 \n",
      " max_pooling2d_3 (MaxPooling  (None, 14, 14, 256)      0         \n",
      " 2D)                                                             \n",
      "                                                                 \n",
      " dropout_3 (Dropout)         (None, 14, 14, 256)       0         \n",
      "                                                                 \n",
      " conv2d_8 (Conv2D)           (None, 14, 14, 512)       1180160   \n",
      "                                                                 \n",
      " conv2d_9 (Conv2D)           (None, 12, 12, 512)       2359808   \n",
      "                                                                 \n",
      " conv2d_10 (Conv2D)          (None, 12, 12, 512)       2359808   \n",
      "                                                                 \n",
      " conv2d_11 (Conv2D)          (None, 10, 10, 512)       2359808   \n",
      "                                                                 \n",
      " max_pooling2d_4 (MaxPooling  (None, 5, 5, 512)        0         \n",
      " 2D)                                                             \n",
      "                                                                 \n",
      " dropout_4 (Dropout)         (None, 5, 5, 512)         0         \n",
      "                                                                 \n",
      " dropout_5 (Dropout)         (None, 5, 5, 512)         0         \n",
      "                                                                 \n",
      " flatten (Flatten)           (None, 12800)             0         \n",
      "                                                                 \n",
      " dense (Dense)               (None, 1500)              19201500  \n",
      "                                                                 \n",
      " dropout_6 (Dropout)         (None, 1500)              0         \n",
      "                                                                 \n",
      " dense_1 (Dense)             (None, 2)                 3002      \n",
      "                                                                 \n",
      "=================================================================\n",
      "Total params: 28,636,342\n",
      "Trainable params: 28,636,342\n",
      "Non-trainable params: 0\n",
      "_________________________________________________________________\n"
     ]
    }
   ],
   "source": [
    "model.summary()"
   ]
  },
  {
   "cell_type": "markdown",
   "id": "621acd1a",
   "metadata": {},
   "source": [
    "## Model Training "
   ]
  },
  {
   "cell_type": "code",
   "execution_count": 24,
   "id": "d596e8c1",
   "metadata": {},
   "outputs": [
    {
     "name": "stdout",
     "output_type": "stream",
     "text": [
      "Epoch 1/10\n",
      "58/58 [==============================] - 837s 14s/step - loss: 0.1637 - accuracy: 0.9427 - val_loss: 0.2936 - val_accuracy: 0.9460\n",
      "Epoch 2/10\n",
      "58/58 [==============================] - 841s 15s/step - loss: 0.1667 - accuracy: 0.9389 - val_loss: 0.2800 - val_accuracy: 0.9618\n",
      "Epoch 3/10\n",
      "58/58 [==============================] - 844s 15s/step - loss: 0.1543 - accuracy: 0.9526 - val_loss: 0.2357 - val_accuracy: 0.9575\n",
      "Epoch 4/10\n",
      "58/58 [==============================] - 808s 14s/step - loss: 0.1285 - accuracy: 0.9597 - val_loss: 0.2174 - val_accuracy: 0.9569\n",
      "Epoch 5/10\n",
      "58/58 [==============================] - 780s 13s/step - loss: 0.1253 - accuracy: 0.9591 - val_loss: 0.2098 - val_accuracy: 0.9749\n",
      "Epoch 6/10\n",
      "58/58 [==============================] - 817s 14s/step - loss: 0.1217 - accuracy: 0.9618 - val_loss: 0.1929 - val_accuracy: 0.9771\n",
      "Epoch 7/10\n",
      "58/58 [==============================] - 831s 14s/step - loss: 0.0897 - accuracy: 0.9738 - val_loss: 0.0957 - val_accuracy: 0.9738\n",
      "Epoch 8/10\n",
      "58/58 [==============================] - 891s 15s/step - loss: 0.0941 - accuracy: 0.9744 - val_loss: 0.1608 - val_accuracy: 0.9766\n",
      "Epoch 9/10\n",
      "58/58 [==============================] - 891s 15s/step - loss: 0.0954 - accuracy: 0.9727 - val_loss: 0.1320 - val_accuracy: 0.9766\n",
      "Epoch 10/10\n",
      "58/58 [==============================] - 846s 15s/step - loss: 0.1001 - accuracy: 0.9744 - val_loss: 0.1490 - val_accuracy: 0.9798\n"
     ]
    }
   ],
   "source": [
    "training_history=model.fit(x=training_set,validation_data=validation_set,epochs=10)"
   ]
  },
  {
   "cell_type": "markdown",
   "id": "72af418e",
   "metadata": {},
   "source": [
    "## Model Evaluation"
   ]
  },
  {
   "cell_type": "code",
   "execution_count": 25,
   "id": "357679bb",
   "metadata": {},
   "outputs": [
    {
     "name": "stdout",
     "output_type": "stream",
     "text": [
      "58/58 [==============================] - 162s 3s/step - loss: 0.1490 - accuracy: 0.9798\n"
     ]
    }
   ],
   "source": [
    "#Model Evaluation on Training Set\n",
    "train_loss,train_acc=model.evaluate(training_set)"
   ]
  },
  {
   "cell_type": "code",
   "execution_count": 26,
   "id": "0892f602",
   "metadata": {},
   "outputs": [
    {
     "name": "stdout",
     "output_type": "stream",
     "text": [
      "0.14900080859661102 0.979825496673584\n"
     ]
    }
   ],
   "source": [
    "print(train_loss,train_acc)"
   ]
  },
  {
   "cell_type": "code",
   "execution_count": 27,
   "id": "05a0f892",
   "metadata": {},
   "outputs": [
    {
     "name": "stdout",
     "output_type": "stream",
     "text": [
      "58/58 [==============================] - 164s 3s/step - loss: 0.1490 - accuracy: 0.9798\n"
     ]
    }
   ],
   "source": [
    "#Model Evaluation on Validation Set\n",
    "val_loss,val_acc=model.evaluate(validation_set)"
   ]
  },
  {
   "cell_type": "code",
   "execution_count": 28,
   "id": "f63314dd",
   "metadata": {},
   "outputs": [
    {
     "name": "stdout",
     "output_type": "stream",
     "text": [
      "0.1490008533000946 0.979825496673584\n"
     ]
    }
   ],
   "source": [
    "print(val_loss,val_acc)"
   ]
  },
  {
   "cell_type": "markdown",
   "id": "59d83761",
   "metadata": {},
   "source": [
    "## Saving Model\n"
   ]
  },
  {
   "cell_type": "code",
   "execution_count": 29,
   "id": "0dbc84fc",
   "metadata": {},
   "outputs": [],
   "source": [
    "model.save(\"trained_model.keras\")"
   ]
  },
  {
   "cell_type": "code",
   "execution_count": 30,
   "id": "f8238d4b",
   "metadata": {},
   "outputs": [
    {
     "data": {
      "text/plain": [
       "{'loss': [0.16368119418621063,\n",
       "  0.16669002175331116,\n",
       "  0.15434877574443817,\n",
       "  0.12851597368717194,\n",
       "  0.12531128525733948,\n",
       "  0.12169316411018372,\n",
       "  0.08970913290977478,\n",
       "  0.09413694590330124,\n",
       "  0.0954238548874855,\n",
       "  0.10013176500797272],\n",
       " 'accuracy': [0.9427480697631836,\n",
       "  0.9389312863349915,\n",
       "  0.952562689781189,\n",
       "  0.9596510529518127,\n",
       "  0.9591057896614075,\n",
       "  0.9618320465087891,\n",
       "  0.9738277196884155,\n",
       "  0.9743729829788208,\n",
       "  0.972737193107605,\n",
       "  0.9743729829788208],\n",
       " 'val_loss': [0.2936387062072754,\n",
       "  0.2800455689430237,\n",
       "  0.23567190766334534,\n",
       "  0.21736183762550354,\n",
       "  0.20976316928863525,\n",
       "  0.1929231584072113,\n",
       "  0.09568065404891968,\n",
       "  0.16079367697238922,\n",
       "  0.1319594383239746,\n",
       "  0.1490008383989334],\n",
       " 'val_accuracy': [0.9460196495056152,\n",
       "  0.9618320465087891,\n",
       "  0.9574699997901917,\n",
       "  0.9569247364997864,\n",
       "  0.9749181866645813,\n",
       "  0.9770992398262024,\n",
       "  0.9738277196884155,\n",
       "  0.9765539765357971,\n",
       "  0.9765539765357971,\n",
       "  0.979825496673584]}"
      ]
     },
     "execution_count": 30,
     "metadata": {},
     "output_type": "execute_result"
    }
   ],
   "source": [
    "training_history.history"
   ]
  },
  {
   "cell_type": "code",
   "execution_count": 34,
   "id": "7b43b5a0",
   "metadata": {},
   "outputs": [],
   "source": [
    "#Recording History in json\n",
    "import json\n",
    "with open(\"training_hist.json\",\"w\") as f:\n",
    "    json.dump(training_history.history,f)"
   ]
  },
  {
   "cell_type": "code",
   "execution_count": 35,
   "id": "350a2bfd",
   "metadata": {},
   "outputs": [
    {
     "data": {
      "text/plain": [
       "[0.9460196495056152,\n",
       " 0.9618320465087891,\n",
       " 0.9574699997901917,\n",
       " 0.9569247364997864,\n",
       " 0.9749181866645813,\n",
       " 0.9770992398262024,\n",
       " 0.9738277196884155,\n",
       " 0.9765539765357971,\n",
       " 0.9765539765357971,\n",
       " 0.979825496673584]"
      ]
     },
     "execution_count": 35,
     "metadata": {},
     "output_type": "execute_result"
    }
   ],
   "source": [
    "training_history.history['val_accuracy']"
   ]
  },
  {
   "cell_type": "markdown",
   "id": "7dc90c67",
   "metadata": {},
   "source": [
    "## Accuracy Visualization"
   ]
  },
  {
   "cell_type": "code",
   "execution_count": 33,
   "id": "b204d5db",
   "metadata": {
    "scrolled": true
   },
   "outputs": [
    {
     "data": {
      "image/png": "[encoded data removed]",
      "text/plain": [
       "<Figure size 640x480 with 1 Axes>"
      ]
     },
     "metadata": {},
     "output_type": "display_data"
    }
   ],
   "source": [
    "epochs=[i for i in range(1,11)]\n",
    "plt.plot(epochs,training_history.history['accuracy'],color='red',label='Training Accuracy')\n",
    "plt.plot(epochs,training_history.history['val_accuracy'],color='blue',label='Validation Accuracy')\n",
    "plt.xlabel(\"No. of Epochs\")\n",
    "plt.ylabel(\"Accuracy Result\")\n",
    "plt.title(\"Visualization of Accuracy Result\")\n",
    "plt.legend()\n",
    "plt.show()"
   ]
  },
  {
   "cell_type": "markdown",
   "id": "2890215f",
   "metadata": {},
   "source": [
    "## Some other ways for model evaluation"
   ]
  },
  {
   "cell_type": "code",
   "execution_count": 39,
   "id": "7c0f5daf",
   "metadata": {},
   "outputs": [
    {
     "data": {
      "text/plain": [
       "['fire', 'nofire']"
      ]
     },
     "execution_count": 39,
     "metadata": {},
     "output_type": "execute_result"
    }
   ],
   "source": [
    "class_name=validation_set.class_names\n",
    "class_name"
   ]
  },
  {
   "cell_type": "code",
   "execution_count": 40,
   "id": "c6c8adb4",
   "metadata": {},
   "outputs": [
    {
     "name": "stdout",
     "output_type": "stream",
     "text": [
      "Found 76 files belonging to 2 classes.\n"
     ]
    }
   ],
   "source": [
    "test_set=tf.keras.utils.image_dataset_from_directory(\n",
    "    'Testing',\n",
    "    labels=\"inferred\",\n",
    "    label_mode=\"categorical\",\n",
    "    color_mode=\"rgb\",\n",
    "    batch_size=32,\n",
    "    image_size=(256, 256),\n",
    "    shuffle=False,\n",
    "    crop_to_aspect_ratio=False\n",
    ")"
   ]
  },
  {
   "cell_type": "code",
   "execution_count": 41,
   "id": "99e945fe",
   "metadata": {},
   "outputs": [
    {
     "name": "stdout",
     "output_type": "stream",
     "text": [
      "3/3 [==============================] - 7s 2s/step\n"
     ]
    },
    {
     "data": {
      "text/plain": [
       "(array([[3.02579869e-02, 9.69742000e-01],\n",
       "        [3.68753485e-02, 9.63124633e-01],\n",
       "        [1.51480902e-02, 9.84851897e-01],\n",
       "        [7.95759633e-02, 9.20424104e-01],\n",
       "        [8.58534813e-01, 1.41465187e-01],\n",
       "        [7.30770588e-01, 2.69229412e-01],\n",
       "        [1.51853770e-01, 8.48146141e-01],\n",
       "        [9.60112929e-01, 3.98870930e-02],\n",
       "        [6.17727518e-01, 3.82272422e-01],\n",
       "        [7.87856638e-01, 2.12143317e-01],\n",
       "        [9.20342922e-01, 7.96569586e-02],\n",
       "        [9.19486403e-01, 8.05135742e-02],\n",
       "        [9.54623520e-01, 4.53765169e-02],\n",
       "        [9.83577549e-01, 1.64223369e-02],\n",
       "        [6.92639947e-01, 3.07360053e-01],\n",
       "        [4.97454494e-01, 5.02545476e-01],\n",
       "        [8.92613471e-01, 1.07386552e-01],\n",
       "        [8.44400227e-01, 1.55599877e-01],\n",
       "        [9.07590926e-01, 9.24090520e-02],\n",
       "        [5.28177500e-01, 4.71822441e-01],\n",
       "        [8.64316225e-01, 1.35683835e-01],\n",
       "        [9.67243314e-01, 3.27567607e-02],\n",
       "        [8.32689822e-01, 1.67310193e-01],\n",
       "        [7.18300402e-01, 2.81699508e-01],\n",
       "        [7.54667461e-01, 2.45332569e-01],\n",
       "        [5.94296634e-01, 4.05703276e-01],\n",
       "        [1.98379338e-01, 8.01620543e-01],\n",
       "        [1.39473127e-02, 9.86052632e-01],\n",
       "        [2.55339686e-02, 9.74466026e-01],\n",
       "        [6.18038848e-02, 9.38196003e-01],\n",
       "        [1.62174180e-01, 8.37825656e-01],\n",
       "        [1.07982345e-01, 8.92017603e-01],\n",
       "        [2.97560659e-03, 9.97024357e-01],\n",
       "        [1.62600521e-02, 9.83739853e-01],\n",
       "        [5.28977551e-02, 9.47102308e-01],\n",
       "        [2.10875459e-02, 9.78912354e-01],\n",
       "        [1.52004555e-01, 8.47995400e-01],\n",
       "        [1.09412082e-01, 8.90587926e-01],\n",
       "        [4.34241444e-03, 9.95657504e-01],\n",
       "        [2.23545969e-01, 7.76454091e-01],\n",
       "        [1.46277875e-01, 8.53722155e-01],\n",
       "        [1.80958420e-01, 8.19041491e-01],\n",
       "        [9.78077799e-02, 9.02192175e-01],\n",
       "        [9.42944959e-02, 9.05705512e-01],\n",
       "        [2.12693308e-02, 9.78730738e-01],\n",
       "        [4.14264053e-01, 5.85735977e-01],\n",
       "        [5.10450542e-01, 4.89549398e-01],\n",
       "        [5.88161908e-02, 9.41183805e-01],\n",
       "        [1.54831866e-02, 9.84516740e-01],\n",
       "        [7.05312181e-04, 9.99294758e-01],\n",
       "        [6.90364186e-03, 9.93096292e-01],\n",
       "        [3.14420834e-02, 9.68557835e-01],\n",
       "        [1.93103909e-01, 8.06896091e-01],\n",
       "        [2.40906887e-02, 9.75909352e-01],\n",
       "        [9.60281715e-02, 9.03971791e-01],\n",
       "        [5.90321004e-01, 4.09678966e-01],\n",
       "        [1.05429940e-01, 8.94570053e-01],\n",
       "        [4.94760424e-02, 9.50524032e-01],\n",
       "        [7.00101256e-01, 2.99898773e-01],\n",
       "        [5.22451848e-02, 9.47754741e-01],\n",
       "        [1.69214010e-02, 9.83078659e-01],\n",
       "        [1.18185468e-01, 8.81814480e-01],\n",
       "        [2.06849962e-01, 7.93150008e-01],\n",
       "        [7.36507103e-02, 9.26349342e-01],\n",
       "        [3.28086205e-02, 9.67191458e-01],\n",
       "        [4.70705181e-02, 9.52929497e-01],\n",
       "        [1.06626295e-01, 8.93373787e-01],\n",
       "        [1.42635480e-01, 8.57364535e-01],\n",
       "        [4.07124728e-01, 5.92875302e-01],\n",
       "        [1.62103754e-02, 9.83789623e-01],\n",
       "        [4.20294218e-02, 9.57970560e-01],\n",
       "        [5.15273809e-02, 9.48472559e-01],\n",
       "        [1.52925611e-03, 9.98470724e-01],\n",
       "        [1.42641030e-02, 9.85735953e-01],\n",
       "        [5.20486124e-02, 9.47951436e-01],\n",
       "        [3.22010107e-02, 9.67799008e-01]], dtype=float32),\n",
       " (76, 2))"
      ]
     },
     "execution_count": 41,
     "metadata": {},
     "output_type": "execute_result"
    }
   ],
   "source": [
    "y_pred=model.predict(test_set)\n",
    "y_pred,y_pred.shape"
   ]
  },
  {
   "cell_type": "code",
   "execution_count": 42,
   "id": "ef47840c",
   "metadata": {},
   "outputs": [],
   "source": [
    "predicted_categories=tf.argmax(y_pred,axis=1)"
   ]
  },
  {
   "cell_type": "code",
   "execution_count": 43,
   "id": "5099d239",
   "metadata": {},
   "outputs": [
    {
     "data": {
      "text/plain": [
       "<tf.Tensor: shape=(76,), dtype=int64, numpy=\n",
       "array([1, 1, 1, 1, 0, 0, 1, 0, 0, 0, 0, 0, 0, 0, 0, 1, 0, 0, 0, 0, 0, 0,\n",
       "       0, 0, 0, 0, 1, 1, 1, 1, 1, 1, 1, 1, 1, 1, 1, 1, 1, 1, 1, 1, 1, 1,\n",
       "       1, 1, 0, 1, 1, 1, 1, 1, 1, 1, 1, 0, 1, 1, 0, 1, 1, 1, 1, 1, 1, 1,\n",
       "       1, 1, 1, 1, 1, 1, 1, 1, 1, 1], dtype=int64)>"
      ]
     },
     "execution_count": 43,
     "metadata": {},
     "output_type": "execute_result"
    }
   ],
   "source": [
    "predicted_categories"
   ]
  },
  {
   "cell_type": "code",
   "execution_count": 46,
   "id": "3a91dad1",
   "metadata": {},
   "outputs": [
    {
     "data": {
      "text/plain": [
       "<tf.Tensor: shape=(76, 2), dtype=float32, numpy=\n",
       "array([[1., 0.],\n",
       "       [1., 0.],\n",
       "       [1., 0.],\n",
       "       [1., 0.],\n",
       "       [1., 0.],\n",
       "       [1., 0.],\n",
       "       [1., 0.],\n",
       "       [1., 0.],\n",
       "       [1., 0.],\n",
       "       [1., 0.],\n",
       "       [1., 0.],\n",
       "       [1., 0.],\n",
       "       [1., 0.],\n",
       "       [1., 0.],\n",
       "       [1., 0.],\n",
       "       [1., 0.],\n",
       "       [1., 0.],\n",
       "       [1., 0.],\n",
       "       [1., 0.],\n",
       "       [1., 0.],\n",
       "       [1., 0.],\n",
       "       [1., 0.],\n",
       "       [1., 0.],\n",
       "       [1., 0.],\n",
       "       [1., 0.],\n",
       "       [1., 0.],\n",
       "       [0., 1.],\n",
       "       [0., 1.],\n",
       "       [0., 1.],\n",
       "       [0., 1.],\n",
       "       [0., 1.],\n",
       "       [0., 1.],\n",
       "       [0., 1.],\n",
       "       [0., 1.],\n",
       "       [0., 1.],\n",
       "       [0., 1.],\n",
       "       [0., 1.],\n",
       "       [0., 1.],\n",
       "       [0., 1.],\n",
       "       [0., 1.],\n",
       "       [0., 1.],\n",
       "       [0., 1.],\n",
       "       [0., 1.],\n",
       "       [0., 1.],\n",
       "       [0., 1.],\n",
       "       [0., 1.],\n",
       "       [0., 1.],\n",
       "       [0., 1.],\n",
       "       [0., 1.],\n",
       "       [0., 1.],\n",
       "       [0., 1.],\n",
       "       [0., 1.],\n",
       "       [0., 1.],\n",
       "       [0., 1.],\n",
       "       [0., 1.],\n",
       "       [0., 1.],\n",
       "       [0., 1.],\n",
       "       [0., 1.],\n",
       "       [0., 1.],\n",
       "       [0., 1.],\n",
       "       [0., 1.],\n",
       "       [0., 1.],\n",
       "       [0., 1.],\n",
       "       [0., 1.],\n",
       "       [0., 1.],\n",
       "       [0., 1.],\n",
       "       [0., 1.],\n",
       "       [0., 1.],\n",
       "       [0., 1.],\n",
       "       [0., 1.],\n",
       "       [0., 1.],\n",
       "       [0., 1.],\n",
       "       [0., 1.],\n",
       "       [0., 1.],\n",
       "       [0., 1.],\n",
       "       [0., 1.]], dtype=float32)>"
      ]
     },
     "execution_count": 46,
     "metadata": {},
     "output_type": "execute_result"
    }
   ],
   "source": [
    "true_categories=tf.concat([y for x,y in test_set],axis=0)\n",
    "true_categories"
   ]
  },
  {
   "cell_type": "code",
   "execution_count": 47,
   "id": "c2257aaf",
   "metadata": {},
   "outputs": [
    {
     "data": {
      "text/plain": [
       "<tf.Tensor: shape=(76,), dtype=int64, numpy=\n",
       "array([0, 0, 0, 0, 0, 0, 0, 0, 0, 0, 0, 0, 0, 0, 0, 0, 0, 0, 0, 0, 0, 0,\n",
       "       0, 0, 0, 0, 1, 1, 1, 1, 1, 1, 1, 1, 1, 1, 1, 1, 1, 1, 1, 1, 1, 1,\n",
       "       1, 1, 1, 1, 1, 1, 1, 1, 1, 1, 1, 1, 1, 1, 1, 1, 1, 1, 1, 1, 1, 1,\n",
       "       1, 1, 1, 1, 1, 1, 1, 1, 1, 1], dtype=int64)>"
      ]
     },
     "execution_count": 47,
     "metadata": {},
     "output_type": "execute_result"
    }
   ],
   "source": [
    "Y_true=tf.argmax(true_categories,axis=1)\n",
    "Y_true"
   ]
  },
  {
   "attachments": {
    "image.png": {
     "image/png": "[encoded data removed]"
    }
   },
   "cell_type": "markdown",
   "id": "6a93f68f",
   "metadata": {},
   "source": [
    "## ![image.png](attachment:image.png)"
   ]
  },
  {
   "cell_type": "code",
   "execution_count": 50,
   "id": "aec6149f",
   "metadata": {},
   "outputs": [],
   "source": [
    "from sklearn.metrics import classification_report,confusion_matrix"
   ]
  },
  {
   "cell_type": "code",
   "execution_count": 48,
   "id": "ff3fd4e5",
   "metadata": {},
   "outputs": [
    {
     "name": "stdout",
     "output_type": "stream",
     "text": [
      "              precision    recall  f1-score   support\n",
      "\n",
      "        fire       0.87      0.77      0.82        26\n",
      "      nofire       0.89      0.94      0.91        50\n",
      "\n",
      "    accuracy                           0.88        76\n",
      "   macro avg       0.88      0.85      0.86        76\n",
      "weighted avg       0.88      0.88      0.88        76\n",
      "\n"
     ]
    }
   ],
   "source": [
    "print(classification_report(Y_true,predicted_categories,target_names=class_name))"
   ]
  },
  {
   "cell_type": "code",
   "execution_count": 52,
   "id": "3807c35d",
   "metadata": {},
   "outputs": [
    {
     "data": {
      "text/plain": [
       "array([[20,  6],\n",
       "       [ 3, 47]], dtype=int64)"
      ]
     },
     "execution_count": 52,
     "metadata": {},
     "output_type": "execute_result"
    }
   ],
   "source": [
    "cm=confusion_matrix(Y_true,predicted_categories)\n",
    "cm"
   ]
  },
  {
   "cell_type": "markdown",
   "id": "3a087905",
   "metadata": {},
   "source": [
    "### Confusion Matrix Visualization"
   ]
  },
  {
   "cell_type": "code",
   "execution_count": 61,
   "id": "13b4213c",
   "metadata": {},
   "outputs": [
    {
     "data": {
      "image/png": "[encoded data removed]",
      "text/plain": [
       "<Figure size 2000x2000 with 2 Axes>"
      ]
     },
     "metadata": {},
     "output_type": "display_data"
    }
   ],
   "source": [
    "plt.figure(figsize=(20,20))\n",
    "sns.heatmap(cm,annot=True,annot_kws={'size':20})\n",
    "plt.xlabel(\"Predicted Class\",fontsize=20)\n",
    "plt.ylabel(\"Actual Class\",fontsize=20)\n",
    "plt.title(\"Wildfire Detection Confusion Matrix\",fontsize=25)\n",
    "plt.show()"
   ]
  },
  {
   "cell_type": "code",
   "execution_count": null,
   "id": "5e1aceb8",
   "metadata": {},
   "outputs": [],
   "source": []
  }
 ],
 "metadata": {
  "kernelspec": {
   "display_name": "Python 3 (ipykernel)",
   "language": "python",
   "name": "python3"
  },
  "language_info": {
   "codemirror_mode": {
    "name": "ipython",
    "version": 3
   },
   "file_extension": ".py",
   "mimetype": "text/x-python",
   "name": "python",
   "nbconvert_exporter": "python",
   "pygments_lexer": "ipython3",
   "version": "3.7.1"
  }
 },
 "nbformat": 4,
 "nbformat_minor": 5
}
