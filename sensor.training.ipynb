{
 "cells": [
  {
   "cell_type": "code",
   "execution_count": 9,
   "id": "29641f9a",
   "metadata": {},
   "outputs": [],
   "source": [
    "# Importing Libraries\n",
    "import pandas as pd\n",
    "from sklearn.model_selection import train_test_split\n",
    "from sklearn.preprocessing import StandardScaler\n",
    "from sklearn import svm\n",
    "from sklearn.metrics import accuracy_score\n",
    "import joblib  # For saving the model\n"
   ]
  },
  {
   "cell_type": "code",
   "execution_count": 10,
   "id": "cb4e6927",
   "metadata": {},
   "outputs": [],
   "source": [
    "## Data Collection and Visualization\n",
    "data = pd.read_csv(\"C:\\\\Users\\\\acer\\\\Downloads\\\\sensor_fire\\\\WildFires_DataSet.csv\")\n",
    "\n",
    "# Separating the target\n",
    "x = data.drop(columns=['CLASS'])\n",
    "y = data['CLASS']\n",
    "\n",
    "# Removing rare classes\n",
    "y = y[y.isin(['nofire', 'fire'])]  # Remove 'nofire' and 'fire'\n",
    "x = x.loc[y.index]  # Keep only the indices of the cleaned y\n",
    "\n",
    "# Ensure all values in x are numeric\n",
    "x = x.apply(pd.to_numeric, errors='coerce')  # Convert to numeric, non-convertible values become NaN\n"
   ]
  },
  {
   "cell_type": "code",
   "execution_count": 11,
   "id": "16d8c5b3",
   "metadata": {},
   "outputs": [],
   "source": [
    "\n",
    "# Drop rows with NaN values in features\n",
    "x = x.dropna()\n",
    "y = y[x.index]  # Keep only the indices of the cleaned x\n",
    "\n",
    "# Splitting the data into training and test sets\n",
    "x_train, x_test, y_train, y_test = train_test_split(x, y, test_size=0.2, stratify=y)\n",
    "\n"
   ]
  },
  {
   "cell_type": "code",
   "execution_count": 12,
   "id": "9914edeb",
   "metadata": {},
   "outputs": [],
   "source": [
    "# Standardizing the data\n",
    "scaler = StandardScaler()\n",
    "scaler.fit(x_train)  # Fit the scaler to the training data\n",
    "x_train_scaled = scaler.transform(x_train)\n",
    "x_test_scaled = scaler.transform(x_test)\n",
    "\n",
    "\n"
   ]
  },
  {
   "cell_type": "code",
   "execution_count": 13,
   "id": "b614581b",
   "metadata": {},
   "outputs": [
    {
     "data": {
      "text/plain": [
       "SVC(class_weight='balanced', kernel='linear')"
      ]
     },
     "execution_count": 13,
     "metadata": {},
     "output_type": "execute_result"
    }
   ],
   "source": [
    "# Model Training\n",
    "model = svm.SVC(kernel='linear', class_weight='balanced')\n",
    "model.fit(x_train_scaled, y_train)\n",
    "\n"
   ]
  },
  {
   "cell_type": "code",
   "execution_count": 14,
   "id": "fd466c1e",
   "metadata": {},
   "outputs": [
    {
     "name": "stdout",
     "output_type": "stream",
     "text": [
      "Accuracy of training data:  0.5694444444444444\n"
     ]
    }
   ],
   "source": [
    "# Model Evaluation\n",
    "# Accuracy score on training data\n",
    "x_train_prediction = model.predict(x_train_scaled)\n",
    "training_data_accuracy = accuracy_score(y_train, x_train_prediction)\n",
    "print(\"Accuracy of training data: \", training_data_accuracy)\n",
    "\n"
   ]
  },
  {
   "cell_type": "code",
   "execution_count": 15,
   "id": "609a35fc",
   "metadata": {},
   "outputs": [
    {
     "name": "stdout",
     "output_type": "stream",
     "text": [
      "Accuracy of test data:  0.5877192982456141\n"
     ]
    }
   ],
   "source": [
    "# Accuracy score on test data\n",
    "x_test_prediction = model.predict(x_test_scaled)\n",
    "test_data_accuracy = accuracy_score(y_test, x_test_prediction)\n",
    "print(\"Accuracy of test data: \", test_data_accuracy)\n"
   ]
  },
  {
   "cell_type": "code",
   "execution_count": 16,
   "id": "3361428c",
   "metadata": {},
   "outputs": [
    {
     "name": "stdout",
     "output_type": "stream",
     "text": [
      "Model and scaler saved successfully!\n"
     ]
    }
   ],
   "source": [
    "\n",
    "# Save the model and scaler\n",
    "joblib.dump(model, 'svm_wildfire_model.pkl')  # Save the trained model\n",
    "joblib.dump(scaler, 'scaler.pkl')  # Save the scaler\n",
    "print(\"Model and scaler saved successfully!\")"
   ]
  }
 ],
 "metadata": {
  "kernelspec": {
   "display_name": "Python 3 (ipykernel)",
   "language": "python",
   "name": "python3"
  },
  "language_info": {
   "codemirror_mode": {
    "name": "ipython",
    "version": 3
   },
   "file_extension": ".py",
   "mimetype": "text/x-python",
   "name": "python",
   "nbconvert_exporter": "python",
   "pygments_lexer": "ipython3",
   "version": "3.7.1"
  }
 },
 "nbformat": 4,
 "nbformat_minor": 5
}
