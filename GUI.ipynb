{
 "cells": [
  {
   "cell_type": "code",
   "execution_count": 1,
   "id": "55f8a57f",
   "metadata": {},
   "outputs": [],
   "source": [
    "import tkinter as tk\n",
    "from tkinter import filedialog, messagebox\n",
    "import pandas as pd\n",
    "import tensorflow as tf\n",
    "from tensorflow.keras.utils import load_img, img_to_array\n",
    "import joblib\n",
    "import smtplib\n",
    "from email.mime.text import MIMEText\n",
    "from email.mime.multipart import MIMEMultipart\n",
    "import matplotlib.pyplot as plt\n",
    "import seaborn as sns\n",
    "from sklearn.metrics import confusion_matrix, accuracy_score, classification_report\n",
    "\n"
   ]
  },
  {
   "cell_type": "code",
   "execution_count": 2,
   "id": "a2eb13f0",
   "metadata": {},
   "outputs": [],
   "source": [
    "\n",
    "# Load models and scaler\n",
    "cnn_model = tf.keras.models.load_model('trained_model.keras')\n",
    "scaler = joblib.load('scaler.pkl')\n",
    "svm_model = joblib.load('svm_wildfire_model.pkl')\n"
   ]
  },
  {
   "cell_type": "code",
   "execution_count": 3,
   "id": "785c96cb",
   "metadata": {},
   "outputs": [],
   "source": [
    "\n",
    "# Email alert function -smpt(simple mail transfer protocol)\n",
    "def send_email_alert(subject, body):\n",
    "    sender_email = \"ayevani.2004@gmail.com\"\n",
    "    receiver_email = \"pratrika10@gmail.com\"\n",
    "    password = \"bxxv khxi dfvt xgsc\"\n",
    "\n",
    "    msg = MIMEMultipart()\n",
    "    msg['From'] = sender_email\n",
    "    msg['To'] = receiver_email\n",
    "    msg['Subject'] = subject\n",
    "    msg.attach(MIMEText(body, 'plain'))\n",
    "\n",
    "    try:\n",
    "        server = smtplib.SMTP_SSL('smtp.gmail.com', 465)\n",
    "        server.login(sender_email, password)\n",
    "        server.send_message(msg)\n",
    "        server.quit()\n",
    "        print(\"Email alert sent!\")\n",
    "    except Exception as e:\n",
    "        print(f\"Error: {e}\")\n",
    "\n"
   ]
  },
  {
   "cell_type": "code",
   "execution_count": 4,
   "id": "5480de36",
   "metadata": {},
   "outputs": [],
   "source": [
    "# GUI application\n",
    "def browse_image():\n",
    "    file_path = filedialog.askopenfilename(filetypes=[(\"Image files\", \"*.jpg;*.jpeg;*.png\")])\n",
    "    image_path_var.set(file_path)\n",
    "\n"
   ]
  },
  {
   "cell_type": "code",
   "execution_count": 5,
   "id": "8735eaa4",
   "metadata": {},
   "outputs": [],
   "source": [
    "def predict():\n",
    "    try:\n",
    "        # Validate Image Path\n",
    "        image_path = image_path_var.get()\n",
    "        if not image_path:\n",
    "            messagebox.showerror(\"Error\", \"Please select an image.\")\n",
    "            return\n",
    "\n",
    "        # CNN Prediction\n",
    "        image = tf.keras.preprocessing.image.load_img(image_path, target_size=(256, 256))\n",
    "        input_arr = tf.keras.preprocessing.image.img_to_array(image)\n",
    "        input_arr = np.array([input_arr])  # Convert to batch format\n",
    "        cnn_prediction = cnn_model.predict(input_arr)\n",
    "        cnn_score = np.argmax(cnn_prediction)  # 1 for 'fire', 0 for 'nofire'\n",
    "\n",
    "        # Validate Sensor Data\n",
    "        try:\n",
    "            sensor_data = [\n",
    "                float(sensor_ndvi.get()), \n",
    "                float(sensor_lst.get()), \n",
    "                float(sensor_humidity.get())\n",
    "            ]\n",
    "        except ValueError:\n",
    "            messagebox.showerror(\"Error\", \"Please enter valid numeric values for sensor data.\")\n",
    "            return\n",
    "\n",
    "        # SVM Prediction\n",
    "        input_df = pd.DataFrame([sensor_data], columns=['NDVI', 'LST', 'HUMIDITY'])\n",
    "        input_scaled = scaler.transform(input_df)\n",
    "        svm_prediction = svm_model.predict(input_scaled)\n",
    "        svm_score = 1 if svm_prediction[0] == 'fire' else 0  # Convert to numeric score\n",
    "\n",
    "        # Combined Decision\n",
    "        cnn_weight = 0.7\n",
    "        svm_weight = 0.3\n",
    "        combined_score = (cnn_score * cnn_weight) + (svm_score * svm_weight)\n",
    "\n",
    "        # Display Results and Send Email\n",
    "        if combined_score >= 0.5:\n",
    "            result.set(\"Fire detected!\")\n",
    "            send_email_alert(\"Fire Alert\", \"Fire detected based on combined analysis of satellite and sensor data!\")\n",
    "        else:\n",
    "            result.set(\"No fire detected.\")\n",
    "            send_email_alert(\"No Fire Alert\", \"No fire detected based on combined analysis of satellite and sensor data.\")\n",
    "\n",
    "        # Debugging Outputs\n",
    "        print(f\"Raw CNN Prediction: {cnn_prediction}\")\n",
    "        print(f\"CNN Model Prediction (Class): {'fire' if cnn_score == 1 else 'nofire'}\")\n",
    "        print(f\"Raw SVM Prediction: {svm_prediction}\")\n",
    "        print(f\"CNN Score: {cnn_score}, SVM Score: {svm_score}\")\n",
    "        print(f\"Combined Weighted Score: {combined_score}\")\n",
    "\n",
    "    except Exception as e:\n",
    "        messagebox.showerror(\"Error\", f\"An error occurred: {e}\")\n"
   ]
  },
  {
   "cell_type": "code",
   "execution_count": 6,
   "id": "b088a825",
   "metadata": {},
   "outputs": [
    {
     "data": {
      "text/plain": [
       "''"
      ]
     },
     "execution_count": 6,
     "metadata": {},
     "output_type": "execute_result"
    }
   ],
   "source": [
    "# Create GUI window\n",
    "app = tk.Tk()\n",
    "app.title(\"Wildfire Detection System\")\n",
    "app.geometry(\"500x400\")\n",
    "\n"
   ]
  },
  {
   "cell_type": "code",
   "execution_count": 7,
   "id": "13094ee6",
   "metadata": {},
   "outputs": [],
   "source": [
    "# GUI elements\n",
    "image_path_var = tk.StringVar()\n",
    "sensor_ndvi = tk.StringVar()\n",
    "sensor_lst = tk.StringVar()\n",
    "sensor_humidity = tk.StringVar()\n",
    "result = tk.StringVar()\n",
    "\n"
   ]
  },
  {
   "cell_type": "code",
   "execution_count": 8,
   "id": "b433c866",
   "metadata": {},
   "outputs": [],
   "source": [
    "# Labels and entries\n",
    "tk.Label(app, text=\"Wildfire Detection System\", font=(\"Arial\", 16)).pack(pady=10)\n"
   ]
  },
  {
   "cell_type": "code",
   "execution_count": 9,
   "id": "4ad86d0f",
   "metadata": {},
   "outputs": [],
   "source": [
    "\n",
    "# Image input\n",
    "tk.Label(app, text=\"Select Satellite Image:\").pack(anchor=\"w\", padx=20)\n",
    "image_entry = tk.Entry(app, textvariable=image_path_var, width=40)\n",
    "image_entry.pack(anchor=\"w\", padx=20)\n",
    "tk.Button(app, text=\"Browse\", command=browse_image).pack(anchor=\"w\", padx=20, pady=5)\n",
    "\n",
    "\n"
   ]
  },
  {
   "cell_type": "code",
   "execution_count": 10,
   "id": "3f234204",
   "metadata": {},
   "outputs": [],
   "source": [
    "# Sensor data input\n",
    "tk.Label(app, text=\"Enter Sensor Data:\").pack(anchor=\"w\", padx=20, pady=10)\n",
    "\n",
    "frame = tk.Frame(app)\n",
    "frame.pack(anchor=\"w\", padx=20)\n",
    "\n",
    "tk.Label(frame, text=\"NDVI:\").grid(row=0, column=0, sticky=\"w\")\n",
    "tk.Entry(frame, textvariable=sensor_ndvi).grid(row=0, column=1)\n",
    "\n",
    "tk.Label(frame, text=\"LST:\").grid(row=1, column=0, sticky=\"w\")\n",
    "tk.Entry(frame, textvariable=sensor_lst).grid(row=1, column=1)\n",
    "\n",
    "tk.Label(frame, text=\"Humidity:\").grid(row=2, column=0, sticky=\"w\")\n",
    "tk.Entry(frame, textvariable=sensor_humidity).grid(row=2, column=1)\n",
    "\n"
   ]
  },
  {
   "cell_type": "code",
   "execution_count": 11,
   "id": "9fffbc17",
   "metadata": {},
   "outputs": [],
   "source": [
    "# Predict button\n",
    "tk.Button(app, text=\"Predict\", command=predict).pack(pady=20)\n",
    "\n"
   ]
  },
  {
   "cell_type": "code",
   "execution_count": 12,
   "id": "83c4e740",
   "metadata": {},
   "outputs": [],
   "source": [
    "# Result display\n",
    "tk.Label(app, text=\"Result:\").pack()\n",
    "result_label = tk.Label(app, textvariable=result, font=(\"Arial\", 14))\n",
    "result_label.pack(pady=10)\n",
    "\n"
   ]
  },
  {
   "cell_type": "code",
   "execution_count": null,
   "id": "79198a51",
   "metadata": {},
   "outputs": [
    {
     "name": "stdout",
     "output_type": "stream",
     "text": [
      "1/1 [==============================] - 8s 8s/step\n",
      "1/1 [==============================] - 0s 134ms/step\n",
      "Email alert sent!\n",
      "Raw CNN Prediction: [[0.0533987 0.9466013]]\n",
      "CNN Model Prediction (Class): fire\n",
      "Raw SVM Prediction: ['fire']\n",
      "CNN Score: 1, SVM Score: 1\n",
      "Combined Weighted Score: 1.0\n",
      "1/1 [==============================] - 0s 153ms/step\n",
      "Email alert sent!\n",
      "Raw CNN Prediction: [[0.86472964 0.13527037]]\n",
      "CNN Model Prediction (Class): nofire\n",
      "Raw SVM Prediction: ['fire']\n",
      "CNN Score: 0, SVM Score: 1\n",
      "Combined Weighted Score: 0.3\n",
      "1/1 [==============================] - 0s 165ms/step\n",
      "Email alert sent!\n",
      "Raw CNN Prediction: [[0.86472964 0.13527037]]\n",
      "CNN Model Prediction (Class): nofire\n",
      "Raw SVM Prediction: ['fire']\n",
      "CNN Score: 0, SVM Score: 1\n",
      "Combined Weighted Score: 0.3\n",
      "1/1 [==============================] - 0s 158ms/step\n",
      "Email alert sent!\n",
      "Raw CNN Prediction: [[0.86472964 0.13527037]]\n",
      "CNN Model Prediction (Class): nofire\n",
      "Raw SVM Prediction: ['fire']\n",
      "CNN Score: 0, SVM Score: 1\n",
      "Combined Weighted Score: 0.3\n",
      "1/1 [==============================] - 0s 270ms/step\n",
      "Email alert sent!\n",
      "Raw CNN Prediction: [[0.96718967 0.03281032]]\n",
      "CNN Model Prediction (Class): nofire\n",
      "Raw SVM Prediction: ['fire']\n",
      "CNN Score: 0, SVM Score: 1\n",
      "Combined Weighted Score: 0.3\n"
     ]
    }
   ],
   "source": [
    "# Run the GUI\n",
    "app.mainloop()"
   ]
  },
  {
   "cell_type": "code",
   "execution_count": null,
   "id": "8ad975c0",
   "metadata": {},
   "outputs": [],
   "source": []
  }
 ],
 "metadata": {
  "kernelspec": {
   "display_name": "Python 3 (ipykernel)",
   "language": "python",
   "name": "python3"
  },
  "language_info": {
   "codemirror_mode": {
    "name": "ipython",
    "version": 3
   },
   "file_extension": ".py",
   "mimetype": "text/x-python",
   "name": "python",
   "nbconvert_exporter": "python",
   "pygments_lexer": "ipython3",
   "version": "3.7.1"
  }
 },
 "nbformat": 4,
 "nbformat_minor": 5
}
